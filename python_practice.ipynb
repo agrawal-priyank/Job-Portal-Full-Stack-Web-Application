{
  "nbformat": 4,
  "nbformat_minor": 0,
  "metadata": {
    "colab": {
      "provenance": [],
      "authorship_tag": "ABX9TyOTzxcNJgn8NILubddalzlp",
      "include_colab_link": true
    },
    "kernelspec": {
      "name": "python3",
      "display_name": "Python 3"
    },
    "language_info": {
      "name": "python"
    }
  },
  "cells": [
    {
      "cell_type": "markdown",
      "metadata": {
        "id": "view-in-github",
        "colab_type": "text"
      },
      "source": [
        "<a href=\"https://colab.research.google.com/github/qrafique/Job-Portal-Full-Stack-Web-Application/blob/master/python_practice.ipynb\" target=\"_parent\"><img src=\"https://colab.research.google.com/assets/colab-badge.svg\" alt=\"Open In Colab\"/></a>"
      ]
    },
    {
      "cell_type": "code",
      "execution_count": 1,
      "metadata": {
        "colab": {
          "base_uri": "https://localhost:8080/"
        },
        "id": "OOe2B3S4sfGH",
        "outputId": "54864288-ad9f-4237-b465-467f8ab7684d"
      },
      "outputs": [
        {
          "output_type": "stream",
          "name": "stdout",
          "text": [
            "Hello,world\n"
          ]
        }
      ],
      "source": [
        "my_string = \"Hello,world\"\n",
        "print(my_string)"
      ]
    },
    {
      "cell_type": "code",
      "source": [
        "my_string2 = \"This is another string\"   #string declaration\n",
        "print(my_string2)"
      ],
      "metadata": {
        "colab": {
          "base_uri": "https://localhost:8080/"
        },
        "id": "pPSEgzX4tyne",
        "outputId": "d684bcf1-c16c-4725-aabe-75ae3415360d"
      },
      "execution_count": 7,
      "outputs": [
        {
          "output_type": "stream",
          "name": "stdout",
          "text": [
            "This is another string\n"
          ]
        }
      ]
    },
    {
      "cell_type": "code",
      "source": [
        "concat_string = my_string+\" \"+my_string2;               #string concatication\n",
        "print(concat_string)"
      ],
      "metadata": {
        "colab": {
          "base_uri": "https://localhost:8080/"
        },
        "id": "0FXkgkjwuMNm",
        "outputId": "9a2f37d6-9323-43dc-ad7c-ad81928090f9"
      },
      "execution_count": 4,
      "outputs": [
        {
          "output_type": "stream",
          "name": "stdout",
          "text": [
            "Hello,world This is another string\n"
          ]
        }
      ]
    },
    {
      "cell_type": "code",
      "source": [
        "print(my_string[1])                      #string index"
      ],
      "metadata": {
        "colab": {
          "base_uri": "https://localhost:8080/"
        },
        "id": "P-nymLaMuksL",
        "outputId": "44661bbb-def4-474a-febb-a42461fbc7e3"
      },
      "execution_count": 5,
      "outputs": [
        {
          "output_type": "stream",
          "name": "stdout",
          "text": [
            "e\n"
          ]
        }
      ]
    },
    {
      "cell_type": "code",
      "source": [
        "print(my_string[0:5])               #string sliced"
      ],
      "metadata": {
        "colab": {
          "base_uri": "https://localhost:8080/"
        },
        "id": "dYlzuHF5uxP3",
        "outputId": "ddbbb32e-7489-4fd7-e60f-bbe649d15578"
      },
      "execution_count": 22,
      "outputs": [
        {
          "output_type": "stream",
          "name": "stdout",
          "text": [
            "Hello\n"
          ]
        }
      ]
    },
    {
      "cell_type": "code",
      "source": [
        "def reverse_string(string):\n",
        "  reversed_string = \"\"\n",
        "  for i in range(len(string) - 1, -1, -1):\n",
        "    reversed_string += string[i]\n",
        "  return reversed_string                               # string rverse function\n",
        "\n",
        "string = \"Hello, World!\"\n",
        "reversed_string = reverse_string(string)\n",
        "print(reversed_string)\n",
        "\n"
      ],
      "metadata": {
        "colab": {
          "base_uri": "https://localhost:8080/"
        },
        "id": "XvvxX23p1Vvv",
        "outputId": "37fca2da-1887-4270-eed3-dba1e1f0681d"
      },
      "execution_count": 23,
      "outputs": [
        {
          "output_type": "stream",
          "name": "stdout",
          "text": [
            "!dlroW ,olleH\n"
          ]
        }
      ]
    },
    {
      "cell_type": "code",
      "source": [
        "multiline_string = \"\"\"this is multiline string\n",
        "stored in python multline string varriable\"\"\"\n",
        "print(multiline_string)                        #multi line string using triple inverted commas   \"\"\"\n"
      ],
      "metadata": {
        "colab": {
          "base_uri": "https://localhost:8080/"
        },
        "id": "1NEOH5ID1oiR",
        "outputId": "65e639bb-27ed-4f85-d352-7277a07208cc"
      },
      "execution_count": 24,
      "outputs": [
        {
          "output_type": "stream",
          "name": "stdout",
          "text": [
            "this is multiline string\n",
            "stored in python multline string varriable\n"
          ]
        }
      ]
    },
    {
      "cell_type": "code",
      "source": [
        "my_paragraph = \"\"\" Multiline strings can be useful in a variety\n",
        "of situations, such as when writing documentation, creating code\n",
        "snippets, or storing text that is too long to fit on a single line. \"\"\"\n",
        "truncated_paragraph = my_paragraph[:40]                              #truncate paragraph 40 characters from start\n",
        "print(truncated_paragraph)"
      ],
      "metadata": {
        "colab": {
          "base_uri": "https://localhost:8080/"
        },
        "id": "0O0cuP4_39ip",
        "outputId": "d9b6b212-b8f4-4583-884c-c7814e47f7d2"
      },
      "execution_count": 27,
      "outputs": [
        {
          "output_type": "stream",
          "name": "stdout",
          "text": [
            " Multiline strings can be useful in a variety \n",
            "of situations, such as when writing documentation, creating code \n",
            "snippets, or storing text th\n"
          ]
        }
      ]
    },
    {
      "cell_type": "code",
      "source": [
        "my_paragraph = \"\"\" Multiline strings can be useful in a variety\n",
        "of situations, such as when writing documentation, creating code\n",
        "snippets, or storing text that is too long to fit on a single line. \"\"\"\n",
        "truncated_paragraph = my_paragraph[:-40]                              #truncate paragraph 40 characters from end\n",
        "print(truncated_paragraph)"
      ],
      "metadata": {
        "colab": {
          "base_uri": "https://localhost:8080/"
        },
        "id": "3QfamcxJ5M9Y",
        "outputId": "9e44e271-a7ed-4248-9b8a-a7bff11a2971"
      },
      "execution_count": 28,
      "outputs": [
        {
          "output_type": "stream",
          "name": "stdout",
          "text": [
            " Multiline strings can be useful in a variety \n",
            "of situations, such as when writing documentation, creating code \n",
            "snippets, or storing text th\n"
          ]
        }
      ]
    },
    {
      "cell_type": "code",
      "source": [
        "\"hello world\".capitalize()                                   # capitalization"
      ],
      "metadata": {
        "colab": {
          "base_uri": "https://localhost:8080/",
          "height": 35
        },
        "id": "MOkiVZFS5XGD",
        "outputId": "b5502a53-b8c5-454e-9faa-d85d52b6430b"
      },
      "execution_count": 29,
      "outputs": [
        {
          "output_type": "execute_result",
          "data": {
            "text/plain": [
              "'Hello world'"
            ],
            "application/vnd.google.colaboratory.intrinsic+json": {
              "type": "string"
            }
          },
          "metadata": {},
          "execution_count": 29
        }
      ]
    },
    {
      "cell_type": "code",
      "source": [
        "\"hello world\".upper()                                # convert to upper letters"
      ],
      "metadata": {
        "colab": {
          "base_uri": "https://localhost:8080/",
          "height": 35
        },
        "id": "n7Q1EeSU5i6D",
        "outputId": "db7b5bd4-8c51-4d0d-85e1-87d29c4cf9b9"
      },
      "execution_count": 30,
      "outputs": [
        {
          "output_type": "execute_result",
          "data": {
            "text/plain": [
              "'HELLO WORLD'"
            ],
            "application/vnd.google.colaboratory.intrinsic+json": {
              "type": "string"
            }
          },
          "metadata": {},
          "execution_count": 30
        }
      ]
    },
    {
      "cell_type": "code",
      "source": [
        "\"hello world\".center(50)                        #Centers the string in a field of the specified width"
      ],
      "metadata": {
        "colab": {
          "base_uri": "https://localhost:8080/",
          "height": 35
        },
        "id": "3jn7JMFn5vBp",
        "outputId": "d8ab829d-d00b-4712-f409-271c763b88e5"
      },
      "execution_count": 31,
      "outputs": [
        {
          "output_type": "execute_result",
          "data": {
            "text/plain": [
              "'                   hello world                    '"
            ],
            "application/vnd.google.colaboratory.intrinsic+json": {
              "type": "string"
            }
          },
          "metadata": {},
          "execution_count": 31
        }
      ]
    },
    {
      "cell_type": "code",
      "source": [
        "\"hello world\".count(\"l\")                          #counts the occurace of particular character"
      ],
      "metadata": {
        "colab": {
          "base_uri": "https://localhost:8080/"
        },
        "id": "keRPteif6B88",
        "outputId": "966414fb-ac4a-4873-bb4f-53d45dd5b670"
      },
      "execution_count": 33,
      "outputs": [
        {
          "output_type": "execute_result",
          "data": {
            "text/plain": [
              "3"
            ]
          },
          "metadata": {},
          "execution_count": 33
        }
      ]
    },
    {
      "cell_type": "code",
      "source": [
        "\"hello world\".encode(\"utf-8\")   #encodes using specified encoding\n"
      ],
      "metadata": {
        "colab": {
          "base_uri": "https://localhost:8080/"
        },
        "id": "lvnf1MXq6rGi",
        "outputId": "20a3ee4f-0c90-49ed-d6f8-97aed9caae6a"
      },
      "execution_count": 34,
      "outputs": [
        {
          "output_type": "execute_result",
          "data": {
            "text/plain": [
              "b'hello world'"
            ]
          },
          "metadata": {},
          "execution_count": 34
        }
      ]
    },
    {
      "cell_type": "code",
      "source": [
        "\"hello world\".endswith(\"world\")   #Returns True if the string ends with the specified substring, False otherwise."
      ],
      "metadata": {
        "colab": {
          "base_uri": "https://localhost:8080/"
        },
        "id": "oTFQbRq36_mw",
        "outputId": "c4cd7acd-258e-4e05-a2ef-c921e834340a"
      },
      "execution_count": 35,
      "outputs": [
        {
          "output_type": "execute_result",
          "data": {
            "text/plain": [
              "True"
            ]
          },
          "metadata": {},
          "execution_count": 35
        }
      ]
    },
    {
      "cell_type": "code",
      "source": [
        "\"hello\\tworld\".expandtabs(20)           # Expands all tab characters in the string to spaces."
      ],
      "metadata": {
        "colab": {
          "base_uri": "https://localhost:8080/",
          "height": 35
        },
        "id": "pUsqNLsh7d_l",
        "outputId": "21062eae-7fde-4798-e74b-19ecf27524f5"
      },
      "execution_count": 36,
      "outputs": [
        {
          "output_type": "execute_result",
          "data": {
            "text/plain": [
              "'hello               world'"
            ],
            "application/vnd.google.colaboratory.intrinsic+json": {
              "type": "string"
            }
          },
          "metadata": {},
          "execution_count": 36
        }
      ]
    },
    {
      "cell_type": "code",
      "source": [
        "\"hello world\".find(\"world\")        #return starting index"
      ],
      "metadata": {
        "colab": {
          "base_uri": "https://localhost:8080/"
        },
        "id": "Tam2C8uh8MAS",
        "outputId": "15d1cdf6-629b-4922-dc4b-f68b08e325c9"
      },
      "execution_count": 37,
      "outputs": [
        {
          "output_type": "execute_result",
          "data": {
            "text/plain": [
              "6"
            ]
          },
          "metadata": {},
          "execution_count": 37
        }
      ]
    },
    {
      "cell_type": "code",
      "source": [
        "\"hello world\".index(\"world\")     # same as find, but raises exception if not found"
      ],
      "metadata": {
        "colab": {
          "base_uri": "https://localhost:8080/"
        },
        "id": "WN7FYTJ_8nSo",
        "outputId": "58d805e9-a3c1-4943-cda1-f33c9fa42fcb"
      },
      "execution_count": 38,
      "outputs": [
        {
          "output_type": "execute_result",
          "data": {
            "text/plain": [
              "6"
            ]
          },
          "metadata": {},
          "execution_count": 38
        }
      ]
    },
    {
      "cell_type": "code",
      "source": [
        "# Formats the string using the specified format specifiers.\n",
        "\"{0} is a {1}\".format(\"java\",\"programming language\")"
      ],
      "metadata": {
        "colab": {
          "base_uri": "https://localhost:8080/",
          "height": 35
        },
        "id": "FFi75wD09ckp",
        "outputId": "ae2794f6-1e08-474b-cb00-3738e5579d5a"
      },
      "execution_count": 39,
      "outputs": [
        {
          "output_type": "execute_result",
          "data": {
            "text/plain": [
              "'java is a programming language'"
            ],
            "application/vnd.google.colaboratory.intrinsic+json": {
              "type": "string"
            }
          },
          "metadata": {},
          "execution_count": 39
        }
      ]
    },
    {
      "cell_type": "code",
      "source": [
        "#isalnum(): Returns True if the string contains only alphanumeric characters, False otherwise.\n",
        "\"hello123\".isalnum()"
      ],
      "metadata": {
        "colab": {
          "base_uri": "https://localhost:8080/"
        },
        "id": "QYbEydBy95l4",
        "outputId": "f828a048-4872-4661-8310-6d9d0e39cf1b"
      },
      "execution_count": 40,
      "outputs": [
        {
          "output_type": "execute_result",
          "data": {
            "text/plain": [
              "True"
            ]
          },
          "metadata": {},
          "execution_count": 40
        }
      ]
    },
    {
      "cell_type": "code",
      "source": [
        "#isalpha(): Returns True if the string contains only alphabetic characters, False otherwise.\n",
        "\"hello\".isalpha()"
      ],
      "metadata": {
        "colab": {
          "base_uri": "https://localhost:8080/"
        },
        "id": "sCBQY7SR-M4J",
        "outputId": "3ae03f89-b360-4e6e-a3b2-f997d90fbb86"
      },
      "execution_count": 41,
      "outputs": [
        {
          "output_type": "execute_result",
          "data": {
            "text/plain": [
              "True"
            ]
          },
          "metadata": {},
          "execution_count": 41
        }
      ]
    },
    {
      "cell_type": "code",
      "source": [
        "#isdecimal(): Returns True if the string contains only decimal characters, False otherwise.\n",
        "\"123456\".isdecimal()"
      ],
      "metadata": {
        "colab": {
          "base_uri": "https://localhost:8080/"
        },
        "id": "IO0gGIaJ-Uc6",
        "outputId": "2babe00e-8cd5-4f61-f534-416834aad256"
      },
      "execution_count": 42,
      "outputs": [
        {
          "output_type": "execute_result",
          "data": {
            "text/plain": [
              "True"
            ]
          },
          "metadata": {},
          "execution_count": 42
        }
      ]
    },
    {
      "cell_type": "code",
      "source": [
        "#isdigit(): Same as isdecimal().\n",
        "\"12345a\".isdigit()"
      ],
      "metadata": {
        "colab": {
          "base_uri": "https://localhost:8080/"
        },
        "id": "moRpyChB-w6L",
        "outputId": "cfd2a353-0a0d-4c0a-9421-323ae2eeb86f"
      },
      "execution_count": 43,
      "outputs": [
        {
          "output_type": "execute_result",
          "data": {
            "text/plain": [
              "False"
            ]
          },
          "metadata": {},
          "execution_count": 43
        }
      ]
    },
    {
      "cell_type": "code",
      "source": [
        "#isidentifier(): Returns True if the string is a valid Python identifier, False otherwise.\n",
        "\"my-variable\".isidentifier()\n",
        "\n",
        "\n",
        "\n"
      ],
      "metadata": {
        "colab": {
          "base_uri": "https://localhost:8080/"
        },
        "id": "TwLo0-Y-_Kmy",
        "outputId": "6cd46c11-2be7-4851-e632-db68d1ee2daa"
      },
      "execution_count": 52,
      "outputs": [
        {
          "output_type": "execute_result",
          "data": {
            "text/plain": [
              "False"
            ]
          },
          "metadata": {},
          "execution_count": 52
        }
      ]
    },
    {
      "cell_type": "code",
      "source": [
        "\"hello\".isidentifier()"
      ],
      "metadata": {
        "colab": {
          "base_uri": "https://localhost:8080/"
        },
        "id": "tIGheee9AEM6",
        "outputId": "34bc7410-0894-42c0-df0e-55a6792c8fb8"
      },
      "execution_count": 54,
      "outputs": [
        {
          "output_type": "execute_result",
          "data": {
            "text/plain": [
              "True"
            ]
          },
          "metadata": {},
          "execution_count": 54
        }
      ]
    }
  ]
}